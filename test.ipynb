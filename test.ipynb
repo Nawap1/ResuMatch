{
 "cells": [
  {
   "cell_type": "code",
   "execution_count": 1,
   "metadata": {},
   "outputs": [
    {
     "data": {
      "text/plain": [
       "True"
      ]
     },
     "execution_count": 1,
     "metadata": {},
     "output_type": "execute_result"
    }
   ],
   "source": [
    "from langchain_core.messages import SystemMessage, ToolMessage, AIMessage, HumanMessage\n",
    "from langchain_mistralai import ChatMistralAI\n",
    "from langgraph.graph import StateGraph, START, END\n",
    "\n",
    "from typing_extensions import TypedDict\n",
    "import os\n",
    "import uuid\n",
    "from typing import Dict\n",
    "\n",
    "from dotenv import load_dotenv\n",
    "load_dotenv()"
   ]
  },
  {
   "cell_type": "code",
   "execution_count": 2,
   "metadata": {},
   "outputs": [],
   "source": [
    "os.environ['MISTRAL_API_KEY'] = os.getenv('MISTRAL_API_KEY')\n",
    "\n",
    "model = \"mistral-small-latest\"\n",
    "llm = ChatMistralAI(\n",
    "    model=model,\n",
    "    temperature=0,\n",
    "    max_retries=5\n",
    ")"
   ]
  },
  {
   "cell_type": "code",
   "execution_count": 3,
   "metadata": {},
   "outputs": [
    {
     "name": "stdout",
     "output_type": "stream",
     "text": [
      "To solve the equation 2x + 3 = 7 for x, follow these steps:\n",
      "\n",
      "1. Subtract 3 from both sides of the equation:\n",
      "   2x + 3 - 3 = 7 - 3\n",
      "   2x = 4\n",
      "\n",
      "2. Divide both sides by 2:\n",
      "   2x / 2 = 4 / 2\n",
      "   x = 2\n",
      "\n",
      "So, the solution is x = 2.\n"
     ]
    }
   ],
   "source": [
    "sys_prompt = \"You are a helpful assistant that solves math problems.\"\n",
    "hum_prompt = \"Solve 2x+3=7 for x.\"\n",
    "\n",
    "# Invoke LLM\n",
    "response = llm.invoke([\n",
    "    SystemMessage(content=sys_prompt),\n",
    "    HumanMessage(content=hum_prompt)]\n",
    ").content.strip()\n",
    "\n",
    "print(response)"
   ]
  },
  {
   "cell_type": "code",
   "execution_count": 4,
   "metadata": {},
   "outputs": [],
   "source": [
    "# State definition\n",
    "class State(TypedDict):\n",
    "    messages: Dict"
   ]
  },
  {
   "cell_type": "code",
   "execution_count": 5,
   "metadata": {},
   "outputs": [],
   "source": [
    "def read_file(file_path):\n",
    "    with open(file_path, 'r') as f:\n",
    "        return f.read()"
   ]
  },
  {
   "cell_type": "code",
   "execution_count": 6,
   "metadata": {},
   "outputs": [],
   "source": [
    "cv_path = \"data/cv.txt\"\n",
    "job_path = \"data/job_description.txt\"\n",
    "start_state = {\"messages\": {\"cv_path\": cv_path, \"job_path\": job_path}}"
   ]
  },
  {
   "cell_type": "code",
   "execution_count": null,
   "metadata": {},
   "outputs": [],
   "source": []
  }
 ],
 "metadata": {
  "kernelspec": {
   "display_name": "torchdl",
   "language": "python",
   "name": "python3"
  },
  "language_info": {
   "codemirror_mode": {
    "name": "ipython",
    "version": 3
   },
   "file_extension": ".py",
   "mimetype": "text/x-python",
   "name": "python",
   "nbconvert_exporter": "python",
   "pygments_lexer": "ipython3",
   "version": "3.10.16"
  }
 },
 "nbformat": 4,
 "nbformat_minor": 2
}
