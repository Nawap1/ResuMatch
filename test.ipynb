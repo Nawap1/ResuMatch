{
 "cells": [
  {
   "cell_type": "code",
   "execution_count": 14,
   "metadata": {},
   "outputs": [
    {
     "data": {
      "text/plain": [
       "True"
      ]
     },
     "execution_count": 14,
     "metadata": {},
     "output_type": "execute_result"
    }
   ],
   "source": [
    "from langchain_core.messages import SystemMessage, ToolMessage, AIMessage, HumanMessage\n",
    "from langchain_mistralai import ChatMistralAI\n",
    "from langgraph.graph import StateGraph, START, END\n",
    "\n",
    "from typing_extensions import TypedDict\n",
    "import os\n",
    "import uuid\n",
    "from typing import Dict\n",
    "\n",
    "from dotenv import load_dotenv\n",
    "load_dotenv()"
   ]
  },
  {
   "cell_type": "code",
   "execution_count": 15,
   "metadata": {},
   "outputs": [],
   "source": [
    "os.environ['MISTRAL_API_KEY'] = os.getenv('MISTRAL_API_KEY')\n",
    "\n",
    "model = \"mistral-small-latest\"\n",
    "llm = ChatMistralAI(\n",
    "    model=model,\n",
    "    temperature=0,\n",
    "    max_retries=5\n",
    ")"
   ]
  },
  {
   "cell_type": "code",
   "execution_count": 16,
   "metadata": {},
   "outputs": [
    {
     "name": "stdout",
     "output_type": "stream",
     "text": [
      "To solve the equation 2x + 3 = 7 for x, follow these steps:\n",
      "\n",
      "1. Subtract 3 from both sides of the equation:\n",
      "   2x + 3 - 3 = 7 - 3\n",
      "   2x = 4\n",
      "\n",
      "2. Divide both sides by 2:\n",
      "   2x / 2 = 4 / 2\n",
      "   x = 2\n",
      "\n",
      "So, the solution is x = 2.\n"
     ]
    }
   ],
   "source": [
    "sys_prompt = \"You are a helpful assistant that solves math problems.\"\n",
    "hum_prompt = \"Solve 2x+3=7 for x.\"\n",
    "\n",
    "# Invoke LLM\n",
    "response = llm.invoke([\n",
    "    SystemMessage(content=sys_prompt),\n",
    "    HumanMessage(content=hum_prompt)]\n",
    ").content.strip()\n",
    "\n",
    "print(response)"
   ]
  },
  {
   "cell_type": "code",
   "execution_count": 17,
   "metadata": {},
   "outputs": [],
   "source": [
    "# State definition\n",
    "class State(TypedDict):\n",
    "    messages: Dict"
   ]
  },
  {
   "cell_type": "code",
   "execution_count": 18,
   "metadata": {},
   "outputs": [],
   "source": [
    "def read_file(file_path):\n",
    "    with open(file_path, 'r') as f:\n",
    "        return f.read()"
   ]
  },
  {
   "cell_type": "code",
   "execution_count": 19,
   "metadata": {},
   "outputs": [],
   "source": [
    "cv_path = \"data/cv.txt\"\n",
    "job_path = \"data/job_description.txt\"\n",
    "start_state = {\"messages\": {\"cv_path\": cv_path, \"job_path\": job_path}}"
   ]
  },
  {
   "cell_type": "code",
   "execution_count": 20,
   "metadata": {},
   "outputs": [],
   "source": [
    "def get_cv_content(state: dict): \n",
    "    print(\"***** get_cv_content *****\")\n",
    "\n",
    "    cv_path = state['messages']['cv_path']\n",
    "    cv_content = read_file(cv_path)\n",
    "\n",
    "    tool_call = ToolMessage(\n",
    "        content=cv_content,\n",
    "        tool_call_id=str(uuid.uuid4())\n",
    "    )\n",
    "\n",
    "    new_state = {\n",
    "        \"messages\": {\n",
    "            \"job_path\": state['messages']['job_path'],\n",
    "            \"cv_content\": tool_call\n",
    "        }\n",
    "    }\n",
    "    return new_state"
   ]
  },
  {
   "cell_type": "code",
   "execution_count": 21,
   "metadata": {},
   "outputs": [],
   "source": [
    "def get_job_description(state: dict):\n",
    "    print(\"***** get_job_description *****\")\n",
    "\n",
    "    job_path = state['messages']['job_path']\n",
    "\n",
    "    job_content = read_file(job_path)\n",
    "\n",
    "    tool_call = ToolMessage(\n",
    "        content=job_content,\n",
    "        tool_call_id=str(uuid.uuid4())\n",
    "    )\n",
    "\n",
    "    new_state = {\n",
    "        \"messages\": {\n",
    "            \"cv_content\": state['messages']['cv_content'],\n",
    "            \"job_content\": tool_call\n",
    "        }\n",
    "    }\n",
    "    return new_state"
   ]
  },
  {
   "cell_type": "code",
   "execution_count": 22,
   "metadata": {},
   "outputs": [],
   "source": [
    "def evaluate_match(state: dict): # The state here will be the get_job_description result -> {\"messages\": {\"cv_content\": ___, \"job_content\": ___}}\n",
    "    print(\"***** evaluate_match *****\")\n",
    "\n",
    "    # Extract the CV and job description content from the state\n",
    "    cv_content = state[\"messages\"][\"cv_content\"].content\n",
    "    job_content = state[\"messages\"][\"job_content\"].content\n",
    "\n",
    "    # Create the evaluation prompts\n",
    "    hum_evaluation_template = \"\"\"CV:\n",
    "    {cv}\n",
    "    ===\n",
    "    Job Description:\n",
    "    {job}\n",
    "    ===\n",
    "    Evaluate whether the CV aligns with the job description provided. Clearly indicate the degree of match and provide specific reasons for your assessment, ensuring a detailed and professional response:\n",
    "    \"\"\"\n",
    "    hum_evaluation_prompt = hum_evaluation_template.format(cv=cv_content, job=job_content)\n",
    "    sys_evaluation_prompt = \"\"\"You are tasked with evaluating whether the CV aligns with the job description provided. Clearly indicate the degree of match and provide specific, detailed reasons for your assessment.\"\"\"\n",
    "\n",
    "    # Invoke the LLM with the evaluation prompts\n",
    "    response = llm.invoke([SystemMessage(content=sys_evaluation_prompt),\n",
    "                           HumanMessage(content=hum_evaluation_prompt)])\n",
    "    content = response.content.strip()\n",
    "\n",
    "    # Create an AIMessage object with the evaluation response and a unique AI call ID\n",
    "    ai_call = AIMessage(\n",
    "        content=content,\n",
    "        ai_call_id=str(uuid.uuid4())\n",
    "    )\n",
    "\n",
    "    # Update the state with the evaluation response\n",
    "    new_state = {\n",
    "        \"messages\": {\n",
    "            \"evaluation\": ai_call\n",
    "        }\n",
    "    }\n",
    "    return new_state"
   ]
  },
  {
   "cell_type": "code",
   "execution_count": 23,
   "metadata": {},
   "outputs": [],
   "source": [
    "def generate_email(state: dict):\n",
    "    print(\"***** generate_email *****\")\n",
    "\n",
    "    evaluation_result = state[\"messages\"][\"evaluation\"].content\n",
    "\n",
    "    hum_email_template = \"\"\"Job Application Evaluation:\n",
    "    {evaluation}\n",
    "    ===\n",
    "    Based on the evaluation of the match between the candidate's CV and the job description, draft an email to the candidate communicating the result of the assessment. Clearly indicate whether or not the candidate has been selected for the position and provide the reasons for the decision. Ensure the tone is polite, professional, and respectful, starting the email with a courteous acknowledgment.\n",
    "    Email:\n",
    "    \"\"\"\n",
    "    hum_email_prompt = hum_email_template.format(evaluation=evaluation_result)\n",
    "    sys_email_prompt = \"\"\"You are a hiring manager tasked with drafting an email to a candidate regarding the result of their job application assessment. Clearly communicate whether the candidate has been selected for the position, and provide reasons for the decision. Maintain a polite, professional, and respectful tone, starting the email with a courteous acknowledgment.\"\"\"\n",
    "\n",
    "    response = llm.invoke([SystemMessage(content=sys_email_prompt),\n",
    "                           HumanMessage(content=hum_email_prompt)])\n",
    "    content = response.content.strip()\n",
    "\n",
    "    ai_call = AIMessage(\n",
    "        content=content,\n",
    "        ai_call_id=str(uuid.uuid4())\n",
    "    )\n",
    "\n",
    "    new_state = {\n",
    "        \"messages\": {\n",
    "            \"email\": ai_call\n",
    "        }\n",
    "    }\n",
    "\n",
    "    return new_state"
   ]
  },
  {
   "cell_type": "code",
   "execution_count": 24,
   "metadata": {},
   "outputs": [
    {
     "data": {
      "image/png": "[encoded data removed]",
      "text/plain": [
       "<IPython.core.display.Image object>"
      ]
     },
     "metadata": {},
     "output_type": "display_data"
    }
   ],
   "source": [
    "workflow = StateGraph(State)\n",
    "\n",
    "# We add the nodes that corresponds to the functions we defined. We have to give them a name\n",
    "workflow.add_node(\"read_cv\", get_cv_content)\n",
    "workflow.add_node(\"get_job_description\", get_job_description)\n",
    "workflow.add_node(\"evaluate_match\", evaluate_match)\n",
    "workflow.add_node(\"generate_email\", generate_email)\n",
    "\n",
    "workflow.add_edge(START, \"read_cv\")\n",
    "workflow.add_edge(\"read_cv\", \"get_job_description\")\n",
    "workflow.add_edge(\"get_job_description\", \"evaluate_match\")\n",
    "workflow.add_edge(\"evaluate_match\", \"generate_email\")\n",
    "workflow.add_edge(\"generate_email\", END)\n",
    "\n",
    "graph = workflow.compile()\n",
    "\n",
    "from IPython.display import Image, display\n",
    "display(Image(graph.get_graph().draw_mermaid_png()))"
   ]
  },
  {
   "cell_type": "code",
   "execution_count": 25,
   "metadata": {},
   "outputs": [
    {
     "name": "stdout",
     "output_type": "stream",
     "text": [
      "***** get_cv_content *****\n",
      "Current Output: {'read_cv': {'messages': {'job_path': 'data/job_description.txt', 'cv_content': ToolMessage(content='JOHN DOE\\nSoftware Engineer\\njohn.doe@email.com | (555) 123-4567 | linkedin.com/in/johndoe | github.com/johndoe\\n\\nSUMMARY\\nExperienced software engineer with 5 years of expertise in machine learning and AI applications.\\nProficient in Python, Java, and cloud technologies with a track record of delivering scalable\\nsolutions and optimizing system performance.\\n\\nSKILLS\\n• Programming Languages: Python, Java, JavaScript, SQL, C++\\n• Frameworks & Libraries: TensorFlow, PyTorch, scikit-learn, Flask, React\\n• Cloud & DevOps: AWS, Docker, Kubernetes, CI/CD pipelines\\n• Machine Learning: NLP, Computer Vision, Predictive Analytics\\n• Database: PostgreSQL, MongoDB, Redis\\n\\nPROFESSIONAL EXPERIENCE\\n\\nSenior Machine Learning Engineer | TechInnovate Inc. | 2021-Present\\n• Developed and deployed ML models that improved customer recommendation accuracy by 35%\\n• Led a team of 4 engineers in implementing a real-time NLP processing pipeline\\n• Reduced model inference time by 40% through optimization techniques\\n• Collaborated with product teams to integrate AI solutions into existing platforms\\n\\nSoftware Developer | DataSolutions Corp | 2019-2021\\n• Built RESTful APIs serving 1M+ daily requests with 99.9% uptime\\n• Implemented data processing pipelines handling 500GB of daily data\\n• Contributed to open-source ML libraries with 500+ GitHub stars\\n• Reduced cloud infrastructure costs by 25% through resource optimization\\n\\nEDUCATION\\nMaster of Science, Computer Science | Stanford University | 2019\\nBachelor of Science, Computer Engineering | MIT | 2017\\n\\nCERTIFICATIONS\\n• AWS Certified Machine Learning Specialist\\n• Google Professional Data Engineer\\n• TensorFlow Developer Certificate\\n', tool_call_id='d8e9414e-8b2d-404c-99a4-ce6e85ca9650')}}}\n",
      "***** get_job_description *****\n",
      "Current Output: {'get_job_description': {'messages': {'cv_content': ToolMessage(content='JOHN DOE\\nSoftware Engineer\\njohn.doe@email.com | (555) 123-4567 | linkedin.com/in/johndoe | github.com/johndoe\\n\\nSUMMARY\\nExperienced software engineer with 5 years of expertise in machine learning and AI applications.\\nProficient in Python, Java, and cloud technologies with a track record of delivering scalable\\nsolutions and optimizing system performance.\\n\\nSKILLS\\n• Programming Languages: Python, Java, JavaScript, SQL, C++\\n• Frameworks & Libraries: TensorFlow, PyTorch, scikit-learn, Flask, React\\n• Cloud & DevOps: AWS, Docker, Kubernetes, CI/CD pipelines\\n• Machine Learning: NLP, Computer Vision, Predictive Analytics\\n• Database: PostgreSQL, MongoDB, Redis\\n\\nPROFESSIONAL EXPERIENCE\\n\\nSenior Machine Learning Engineer | TechInnovate Inc. | 2021-Present\\n• Developed and deployed ML models that improved customer recommendation accuracy by 35%\\n• Led a team of 4 engineers in implementing a real-time NLP processing pipeline\\n• Reduced model inference time by 40% through optimization techniques\\n• Collaborated with product teams to integrate AI solutions into existing platforms\\n\\nSoftware Developer | DataSolutions Corp | 2019-2021\\n• Built RESTful APIs serving 1M+ daily requests with 99.9% uptime\\n• Implemented data processing pipelines handling 500GB of daily data\\n• Contributed to open-source ML libraries with 500+ GitHub stars\\n• Reduced cloud infrastructure costs by 25% through resource optimization\\n\\nEDUCATION\\nMaster of Science, Computer Science | Stanford University | 2019\\nBachelor of Science, Computer Engineering | MIT | 2017\\n\\nCERTIFICATIONS\\n• AWS Certified Machine Learning Specialist\\n• Google Professional Data Engineer\\n• TensorFlow Developer Certificate\\n', tool_call_id='d8e9414e-8b2d-404c-99a4-ce6e85ca9650'), 'job_content': ToolMessage(content=\"Job Title: Senior AI Engineer\\nDepartment: Artificial Intelligence\\nLocation: Remote (US-based)\\n\\nAbout the Company:\\nTechFusion is a leading AI solutions provider specializing in developing cutting-edge technologies \\nfor enterprise clients. Our team is dedicated to pushing the boundaries of what's possible with \\nartificial intelligence and machine learning.\\n\\nJob Description:\\nWe are seeking an experienced Senior AI Engineer to join our growing team. In this role, you will \\ndesign, develop, and deploy advanced machine learning models and AI solutions that address \\ncomplex business challenges for our clients. You will work closely with cross-functional teams to \\ntransform raw data into valuable insights and actionable intelligence.\\n\\nKey Responsibilities:\\n• Design and implement machine learning models using Python and related ML frameworks\\n• Lead the development of NLP and computer vision solutions for diverse client needs\\n• Optimize existing ML pipelines for improved performance and accuracy\\n• Collaborate with data engineers to develop efficient data processing workflows\\n• Mentor junior team members and contribute to technical direction\\n• Stay current with the latest research and technologies in AI/ML\\n• Communicate complex technical concepts to non-technical stakeholders\\n\\nRequired Qualifications:\\n• Bachelor's or Master's degree in Computer Science, AI, or related field\\n• 5+ years of professional software development experience\\n• 3+ years of hands-on experience with ML frameworks such as TensorFlow or PyTorch\\n• Strong proficiency in Python and related data science libraries\\n• Experience with cloud platforms (AWS, GCP, or Azure)\\n• Knowledge of containerization tools like Docker and orchestration with Kubernetes\\n• Excellent problem-solving skills and attention to detail\\n\\nPreferred Qualifications:\\n• PhD in Machine Learning, AI, or related field\\n• Experience with NLP and large language models\\n• Familiarity with MLOps practices and tools\\n• Contributions to open-source projects or research publications\\n• Experience with distributed computing frameworks\\n\\nBenefits:\\n• Competitive salary and performance bonuses\\n• Comprehensive health, dental, and vision insurance\\n• Flexible work schedule and remote work options\\n• Continuous learning budget for conferences and courses\\n• 401(k) matching program\\n• Stock options\\n\\nTechFusion is an equal opportunity employer committed to diversity in the workplace.\\n\", tool_call_id='32d9da93-2c5c-4c19-b492-3b3cf2c2e86d')}}}\n",
      "***** evaluate_match *****\n",
      "Current Output: {'evaluate_match': {'messages': {'evaluation': AIMessage(content=\"### Degree of Match: High\\n\\nJohn Doe's CV aligns very well with the job description for the Senior AI Engineer position at TechFusion. Here are the specific reasons for this assessment:\\n\\n#### Educational Background\\n- **Required Qualifications:** Bachelor's or Master's degree in Computer Science, AI, or related field.\\n  - **CV Match:** John Doe holds a Master of Science in Computer Science from Stanford University and a Bachelor of Science in Computer Engineering from MIT. This exceeds the required educational qualifications.\\n\\n#### Professional Experience\\n- **Required Qualifications:** 5+ years of professional software development experience.\\n  - **CV Match:** John Doe has 5 years of experience, including roles as a Senior Machine Learning Engineer and Software Developer. This meets the required experience.\\n\\n- **Required Qualifications:** 3+ years of hands-on experience with ML frameworks such as TensorFlow or PyTorch.\\n  - **CV Match:** John Doe has experience with TensorFlow, PyTorch, and scikit-learn, which are all relevant ML frameworks. His roles at TechInnovate Inc. and DataSolutions Corp. demonstrate this experience.\\n\\n#### Technical Skills\\n- **Required Qualifications:** Strong proficiency in Python and related data science libraries.\\n  - **CV Match:** John Doe is proficient in Python and has experience with various data science libraries such as TensorFlow, PyTorch, and scikit-learn.\\n\\n- **Required Qualifications:** Experience with cloud platforms (AWS, GCP, or Azure).\\n  - **CV Match:** John Doe has experience with AWS, which is one of the specified cloud platforms.\\n\\n- **Required Qualifications:** Knowledge of containerization tools like Docker and orchestration with Kubernetes.\\n  - **CV Match:** John Doe has experience with Docker and Kubernetes, which are essential for modern DevOps practices.\\n\\n#### Specific Responsibilities and Skills\\n- **Key Responsibilities:** Design and implement machine learning models using Python and related ML frameworks.\\n  - **CV Match:** John Doe has developed and deployed ML models at TechInnovate Inc., which aligns with this responsibility.\\n\\n- **Key Responsibilities:** Lead the development of NLP and computer vision solutions for diverse client needs.\\n  - **CV Match:** John Doe has led a team in implementing a real-time NLP processing pipeline and has experience with NLP and computer vision.\\n\\n- **Key Responsibilities:** Optimize existing ML pipelines for improved performance and accuracy.\\n  - **CV Match:** John Doe has reduced model inference time by 40% through optimization techniques, demonstrating his ability to optimize ML pipelines.\\n\\n- **Key Responsibilities:** Collaborate with data engineers to develop efficient data processing workflows.\\n  - **CV Match:** John Doe has implemented data processing pipelines handling large volumes of data, which shows his ability to work with data engineers.\\n\\n- **Key Responsibilities:** Mentor junior team members and contribute to technical direction.\\n  - **CV Match:** John Doe's leadership role at TechInnovate Inc. suggests he has experience mentoring and contributing to technical direction.\\n\\n#### Preferred Qualifications\\n- **Preferred Qualifications:** Experience with NLP and large language models.\\n  - **CV Match:** John Doe has experience with NLP, as evidenced by his work on a real-time NLP processing pipeline.\\n\\n- **Preferred Qualifications:** Contributions to open-source projects or research publications.\\n  - **CV Match:** John Doe has contributed to open-source ML libraries with significant GitHub stars, demonstrating his involvement in the open-source community.\\n\\n#### Certifications\\n- **Certifications:** AWS Certified Machine Learning Specialist, Google Professional Data Engineer, TensorFlow Developer Certificate.\\n  - **CV Match:** These certifications further validate John Doe's expertise in machine learning and cloud technologies, making him a strong candidate for the role.\\n\\n### Conclusion\\nJohn Doe's CV shows a high degree of alignment with the job description for the Senior AI Engineer position at TechFusion. His educational background, professional experience, technical skills, and certifications all meet or exceed the required and preferred qualifications. His experience in leading teams, optimizing ML pipelines, and contributing to open-source projects makes him a strong candidate for this role.\", additional_kwargs={}, response_metadata={}, ai_call_id='93e3e0e6-f481-4ac4-83ff-776c23df865c')}}}\n",
      "***** generate_email *****\n",
      "Current Output: {'generate_email': {'messages': {'email': AIMessage(content='Subject: Application Update for Senior AI Engineer Position\\n\\nDear John Doe,\\n\\nI hope this email finds you well. I am writing to update you on the status of your application for the Senior AI Engineer position at TechFusion.\\n\\nWe appreciate the time and effort you invested in applying for this role and would like to express our gratitude for your interest in TechFusion. After a thorough review of your application, we are pleased to inform you that you have been selected for the Senior AI Engineer position.\\n\\nYour impressive educational background, with a Master of Science in Computer Science from Stanford University and a Bachelor of Science in Computer Engineering from MIT, along with your extensive professional experience, make you an excellent fit for our team. Your hands-on experience with ML frameworks such as TensorFlow and PyTorch, proficiency in Python, and familiarity with cloud platforms like AWS further align with the requirements of the role. Additionally, your leadership experience, contributions to open-source projects, and relevant certifications have significantly strengthened your candidacy.\\n\\nWe are confident that your skills and experience will be a valuable addition to our team, and we look forward to the possibility of working together. Our next steps will involve scheduling an interview to discuss the role in more detail and answer any questions you may have.\\n\\nThank you once again for your interest in TechFusion. We look forward to the opportunity to discuss your application further.\\n\\nBest regards,\\n\\n[Your Name]\\nHiring Manager, TechFusion', additional_kwargs={}, response_metadata={}, ai_call_id='caadffe0-9363-4a51-8b3a-fe6617c92ccb')}}}\n",
      "\n",
      "***** Process completed successfully!! *****\n",
      "\n",
      "Subject: Application Update for Senior AI Engineer Position\n",
      "\n",
      "Dear John Doe,\n",
      "\n",
      "I hope this email finds you well. I am writing to update you on the status of your application for the Senior AI Engineer position at TechFusion.\n",
      "\n",
      "We appreciate the time and effort you invested in applying for this role and would like to express our gratitude for your interest in TechFusion. After a thorough review of your application, we are pleased to inform you that you have been selected for the Senior AI Engineer position.\n",
      "\n",
      "Your impressive educational background, with a Master of Science in Computer Science from Stanford University and a Bachelor of Science in Computer Engineering from MIT, along with your extensive professional experience, make you an excellent fit for our team. Your hands-on experience with ML frameworks such as TensorFlow and PyTorch, proficiency in Python, and familiarity with cloud platforms like AWS further align with the requirements of the role. Additionally, your leadership experience, contributions to open-source projects, and relevant certifications have significantly strengthened your candidacy.\n",
      "\n",
      "We are confident that your skills and experience will be a valuable addition to our team, and we look forward to the possibility of working together. Our next steps will involve scheduling an interview to discuss the role in more detail and answer any questions you may have.\n",
      "\n",
      "Thank you once again for your interest in TechFusion. We look forward to the opportunity to discuss your application further.\n",
      "\n",
      "Best regards,\n",
      "\n",
      "[Your Name]\n",
      "Hiring Manager, TechFusion\n"
     ]
    }
   ],
   "source": [
    "for output in graph.stream(start_state):\n",
    "    print(\"Current Output:\", output)\n",
    "\n",
    "print(\"\\n***** Process completed successfully!! *****\\n\")\n",
    "print(output['generate_email']['messages']['email'].content)"
   ]
  },
  {
   "cell_type": "code",
   "execution_count": null,
   "metadata": {},
   "outputs": [],
   "source": []
  }
 ],
 "metadata": {
  "kernelspec": {
   "display_name": "torchdl",
   "language": "python",
   "name": "python3"
  },
  "language_info": {
   "codemirror_mode": {
    "name": "ipython",
    "version": 3
   },
   "file_extension": ".py",
   "mimetype": "text/x-python",
   "name": "python",
   "nbconvert_exporter": "python",
   "pygments_lexer": "ipython3",
   "version": "3.10.16"
  }
 },
 "nbformat": 4,
 "nbformat_minor": 2
}
